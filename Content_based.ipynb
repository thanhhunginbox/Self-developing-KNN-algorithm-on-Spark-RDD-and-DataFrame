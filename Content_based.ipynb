{
 "cells": [
  {
   "cell_type": "code",
   "execution_count": 1,
   "id": "5b94aec6",
   "metadata": {},
   "outputs": [],
   "source": [
    "from pyspark.ml.linalg import Vectors\n",
    "import pyspark.sql.functions as f\n",
    "from math import sqrt\n",
    "from numpy.linalg import norm\n",
    "from pyspark.sql.window import Window\n",
    "from pyspark.sql.functions import col, row_number, rank, monotonically_increasing_id \n",
    "from operator import add\n",
    "from pyspark.sql import Row"
   ]
  },
  {
   "cell_type": "code",
   "execution_count": 2,
   "id": "0e7015b2",
   "metadata": {},
   "outputs": [],
   "source": [
    "def cosine(a,b):\n",
    "    \"\"\"\n",
    "       return cosine similirity of 2 two vector a and b\n",
    "    \"\"\"\n",
    "    s = 0\n",
    "    for i,j in zip(a,b):\n",
    "        s = s + i*j\n",
    "    return s/(norm(a)*norm(b))"
   ]
  },
  {
   "cell_type": "code",
   "execution_count": 3,
   "id": "d4f814ed",
   "metadata": {},
   "outputs": [
    {
     "name": "stdout",
     "output_type": "stream",
     "text": [
      "+-------+--------------------+--------------------+\n",
      "|movieId|               title|              genres|\n",
      "+-------+--------------------+--------------------+\n",
      "|      1|    Toy Story (1995)|Adventure|Animati...|\n",
      "|      2|      Jumanji (1995)|Adventure|Childre...|\n",
      "|      3|Grumpier Old Men ...|      Comedy|Romance|\n",
      "|      4|Waiting to Exhale...|Comedy|Drama|Romance|\n",
      "|      5|Father of the Bri...|              Comedy|\n",
      "+-------+--------------------+--------------------+\n",
      "only showing top 5 rows\n",
      "\n"
     ]
    }
   ],
   "source": [
    "movies = spark.read.options(delimiter=',', header=True) \\\n",
    "               .csv(\"/home/thanhhung/Downloads/movies.csv\")\n",
    "movies.show(5)"
   ]
  },
  {
   "cell_type": "code",
   "execution_count": 4,
   "id": "a4c1039e",
   "metadata": {},
   "outputs": [
    {
     "name": "stdout",
     "output_type": "stream",
     "text": [
      "+-------+---------+----------------+\n",
      "|movieId|   genres|           title|\n",
      "+-------+---------+----------------+\n",
      "|      1|Adventure|Toy Story (1995)|\n",
      "|      1|Animation|Toy Story (1995)|\n",
      "|      1| Children|Toy Story (1995)|\n",
      "|      1|   Comedy|Toy Story (1995)|\n",
      "|      1|  Fantasy|Toy Story (1995)|\n",
      "+-------+---------+----------------+\n",
      "only showing top 5 rows\n",
      "\n"
     ]
    }
   ],
   "source": [
    "movies = movies.withColumn('genres_array', f.split(f.col('genres'), '\\|'))\\\n",
    "    .withColumn('genres', f.explode('genres_array')).select('movieId', 'genres', 'title')\n",
    "movies.show(5)"
   ]
  },
  {
   "cell_type": "code",
   "execution_count": 5,
   "id": "3265f42c",
   "metadata": {},
   "outputs": [
    {
     "name": "stdout",
     "output_type": "stream",
     "text": [
      "+-------+------+---------+---------+--------+------+-----+-----------+-----+-------+---------+------+----+-------+-------+-------+------+--------+----+-------+\n",
      "|movieId|Action|Adventure|Animation|Children|Comedy|Crime|Documentary|Drama|Fantasy|Film-Noir|Horror|IMAX|Musical|Mystery|Romance|Sci-Fi|Thriller| War|Western|\n",
      "+-------+------+---------+---------+--------+------+-----+-----------+-----+-------+---------+------+----+-------+-------+-------+------+--------+----+-------+\n",
      "|   2294|  null|        1|        1|       1|     1| null|       null| null|      1|     null|  null|null|   null|   null|   null|  null|    null|null|   null|\n",
      "|   2162|  null|        1|     null|       1|  null| null|       null| null|      1|     null|  null|null|   null|   null|   null|  null|    null|null|   null|\n",
      "|   3210|  null|     null|     null|    null|     1| null|       null|    1|   null|     null|  null|null|   null|   null|      1|  null|    null|null|   null|\n",
      "|   3959|     1|        1|     null|    null|  null| null|       null| null|   null|     null|  null|null|   null|   null|   null|     1|    null|null|   null|\n",
      "|    467|  null|     null|     null|    null|     1| null|       null| null|   null|     null|  null|null|   null|   null|   null|  null|    null|null|   null|\n",
      "+-------+------+---------+---------+--------+------+-----+-----------+-----+-------+---------+------+----+-------+-------+-------+------+--------+----+-------+\n",
      "only showing top 5 rows\n",
      "\n"
     ]
    }
   ],
   "source": [
    "movies_pivot = movies.groupBy('movieId').pivot('genres').agg(f.count('genres')).drop('(no genres listed)')\n",
    "movies_pivot.show(5)"
   ]
  },
  {
   "cell_type": "code",
   "execution_count": 6,
   "id": "f04b59f8",
   "metadata": {},
   "outputs": [
    {
     "name": "stdout",
     "output_type": "stream",
     "text": [
      "+-------+------+---------+---------+--------+------+-----+-----------+-----+-------+---------+------+----+-------+-------+-------+------+--------+---+-------+\n",
      "|movieId|Action|Adventure|Animation|Children|Comedy|Crime|Documentary|Drama|Fantasy|Film-Noir|Horror|IMAX|Musical|Mystery|Romance|Sci-Fi|Thriller|War|Western|\n",
      "+-------+------+---------+---------+--------+------+-----+-----------+-----+-------+---------+------+----+-------+-------+-------+------+--------+---+-------+\n",
      "|   2294|     0|        1|        1|       1|     1|    0|          0|    0|      1|        0|     0|   0|      0|      0|      0|     0|       0|  0|      0|\n",
      "|   2162|     0|        1|        0|       1|     0|    0|          0|    0|      1|        0|     0|   0|      0|      0|      0|     0|       0|  0|      0|\n",
      "|   3210|     0|        0|        0|       0|     1|    0|          0|    1|      0|        0|     0|   0|      0|      0|      1|     0|       0|  0|      0|\n",
      "|   3959|     1|        1|        0|       0|     0|    0|          0|    0|      0|        0|     0|   0|      0|      0|      0|     1|       0|  0|      0|\n",
      "|    467|     0|        0|        0|       0|     1|    0|          0|    0|      0|        0|     0|   0|      0|      0|      0|     0|       0|  0|      0|\n",
      "+-------+------+---------+---------+--------+------+-----+-----------+-----+-------+---------+------+----+-------+-------+-------+------+--------+---+-------+\n",
      "only showing top 5 rows\n",
      "\n"
     ]
    }
   ],
   "source": [
    "movies_pivot = movies_pivot.na.fill(0)\n",
    "movies_pivot.show(5)"
   ]
  },
  {
   "cell_type": "code",
   "execution_count": 7,
   "id": "6adb87e0",
   "metadata": {},
   "outputs": [
    {
     "name": "stdout",
     "output_type": "stream",
     "text": [
      "+-------+--------------------+\n",
      "|movieId|             feature|\n",
      "+-------+--------------------+\n",
      "|   2294|[0, 1, 1, 1, 1, 0...|\n",
      "|   2162|[0, 1, 0, 1, 0, 0...|\n",
      "|   3210|[0, 0, 0, 0, 1, 0...|\n",
      "|   3959|[1, 1, 0, 0, 0, 0...|\n",
      "|    467|[0, 0, 0, 0, 1, 0...|\n",
      "+-------+--------------------+\n",
      "only showing top 5 rows\n",
      "\n"
     ]
    }
   ],
   "source": [
    "movies_feature = movies_pivot.select(\"movieId\", f.array(movies_pivot.columns[1:]).alias(\"feature\"))\n",
    "movies_feature.show(5)"
   ]
  },
  {
   "cell_type": "code",
   "execution_count": 8,
   "id": "e654026d",
   "metadata": {},
   "outputs": [
    {
     "name": "stderr",
     "output_type": "stream",
     "text": [
      "\r",
      "[Stage 34:>                                                         (0 + 1) / 1]\r"
     ]
    },
    {
     "name": "stdout",
     "output_type": "stream",
     "text": [
      "root\n",
      " |-- movieId: string (nullable = true)\n",
      " |-- feature: vector (nullable = true)\n",
      "\n"
     ]
    },
    {
     "name": "stderr",
     "output_type": "stream",
     "text": [
      "\r",
      "                                                                                \r"
     ]
    }
   ],
   "source": [
    "movies_feature = movies_feature.rdd.map(lambda row: Row(movieId=row[\"movieId\"], feature=Vectors.dense(row[\"feature\"]))).toDF()\n",
    "movies_feature.printSchema()"
   ]
  },
  {
   "cell_type": "code",
   "execution_count": 9,
   "id": "546de8ca",
   "metadata": {},
   "outputs": [
    {
     "name": "stdout",
     "output_type": "stream",
     "text": [
      "+-------+--------------------+\n",
      "|movieId|             feature|\n",
      "+-------+--------------------+\n",
      "|   2294|[0.0,1.0,1.0,1.0,...|\n",
      "|   2162|[0.0,1.0,0.0,1.0,...|\n",
      "|   3210|[0.0,0.0,0.0,0.0,...|\n",
      "|   3959|[1.0,1.0,0.0,0.0,...|\n",
      "|    467|[0.0,0.0,0.0,0.0,...|\n",
      "+-------+--------------------+\n",
      "only showing top 5 rows\n",
      "\n"
     ]
    }
   ],
   "source": [
    "movies_feature.show(5)"
   ]
  },
  {
   "cell_type": "code",
   "execution_count": 10,
   "id": "7df42d4e",
   "metadata": {},
   "outputs": [
    {
     "name": "stdout",
     "output_type": "stream",
     "text": [
      "+------+-------+------+\n",
      "|userId|movieId|rating|\n",
      "+------+-------+------+\n",
      "|     1|      1|   4.0|\n",
      "|     1|      3|   4.0|\n",
      "|     1|      6|   4.0|\n",
      "|     1|     47|   5.0|\n",
      "|     1|     50|   5.0|\n",
      "+------+-------+------+\n",
      "only showing top 5 rows\n",
      "\n"
     ]
    }
   ],
   "source": [
    "ratings = spark.read.options(delimiter=',', header=True).csv(\"/home/thanhhung/Downloads/ratings.csv\").select('userId', 'movieId', 'rating')\n",
    "ratings.show(5)"
   ]
  },
  {
   "cell_type": "code",
   "execution_count": 11,
   "id": "e04228aa",
   "metadata": {},
   "outputs": [
    {
     "name": "stdout",
     "output_type": "stream",
     "text": [
      "+------+-------+--------------------+------+\n",
      "|userId|movieId|             feature|rating|\n",
      "+------+-------+--------------------+------+\n",
      "|   608|   2294|[0.0,1.0,1.0,1.0,...|   4.0|\n",
      "|   600|   2294|[0.0,1.0,1.0,1.0,...|   2.5|\n",
      "|   596|   2294|[0.0,1.0,1.0,1.0,...|   3.0|\n",
      "|   580|   2294|[0.0,1.0,1.0,1.0,...|   4.0|\n",
      "|   561|   2294|[0.0,1.0,1.0,1.0,...|   2.0|\n",
      "+------+-------+--------------------+------+\n",
      "only showing top 5 rows\n",
      "\n"
     ]
    }
   ],
   "source": [
    "df = ratings.join(movies_feature, on='movieId').select('userId', 'movieId', 'feature', 'rating')\n",
    "df.show(5)"
   ]
  },
  {
   "cell_type": "code",
   "execution_count": 12,
   "id": "ffca1576",
   "metadata": {},
   "outputs": [],
   "source": [
    "def get_user_vectors(df, userId):\n",
    "    return df.filter(df.userId == userId).select(col(\"feature\"), col(\"rating\"))"
   ]
  },
  {
   "cell_type": "code",
   "execution_count": 13,
   "id": "1b8d0236",
   "metadata": {},
   "outputs": [],
   "source": [
    "def get_not_rating_vectors(df, userId):\n",
    "    return df.filter(df.userId != userId).select(col(\"feature\").alias(\"candidate_feature\"), col(\"movieId\").alias(\"candidate_id\")).dropDuplicates()"
   ]
  },
  {
   "cell_type": "code",
   "execution_count": 14,
   "id": "c1f39ad3",
   "metadata": {},
   "outputs": [
    {
     "name": "stdout",
     "output_type": "stream",
     "text": [
      "+--------------------+------+\n",
      "|             feature|rating|\n",
      "+--------------------+------+\n",
      "|[0.0,0.0,0.0,0.0,...|   3.0|\n",
      "|[0.0,0.0,0.0,0.0,...|   4.0|\n",
      "|[1.0,0.0,0.0,0.0,...|   5.0|\n",
      "|[0.0,0.0,0.0,0.0,...|   4.0|\n",
      "|[0.0,0.0,1.0,0.0,...|   5.0|\n",
      "+--------------------+------+\n",
      "only showing top 5 rows\n",
      "\n"
     ]
    }
   ],
   "source": [
    "vec = get_user_vectors(df, 1)\n",
    "vec = vec.withColumn(\"rating\", vec[\"rating\"].cast(\"float\"))\n",
    "vec.show(5)"
   ]
  },
  {
   "cell_type": "code",
   "execution_count": 15,
   "id": "dc814b68",
   "metadata": {},
   "outputs": [
    {
     "name": "stderr",
     "output_type": "stream",
     "text": [
      "                                                                                \r"
     ]
    }
   ],
   "source": [
    "not_vec = get_not_rating_vectors(df, 1).head(20)\n",
    "not_vec =spark.createDataFrame(not_vec)"
   ]
  },
  {
   "cell_type": "code",
   "execution_count": 16,
   "id": "630dbcde",
   "metadata": {},
   "outputs": [],
   "source": [
    "class KNN_recommender:\n",
    "    def __init__(self, user_id, watched_df, not_watched_df, k):\n",
    "        \"\"\"\n",
    "            watched_df : dataframe of items that the user already watched and rated\n",
    "                column \"feature\": vector of float elements\n",
    "                column \"rating\" : float\n",
    "                \n",
    "            not_watched_df: dataframe of items that the user is yet to watched\n",
    "                column \"candidate_feature\": vector of float elements\n",
    "                column \"candidate_id\": any\n",
    "        \"\"\"\n",
    "        self.userId = user_id\n",
    "        self.watched_df = watched_df\n",
    "        self.not_watched_df = not_watched_df\n",
    "        self.k = k\n",
    "    \n",
    "    def get_ranked_list(self):\n",
    "        \n",
    "        k = self.k\n",
    "        w = self.watched_df\n",
    "        n = self.not_watched_df\n",
    "        \n",
    "        cross_join_df = w.crossJoin(n)\n",
    "    \n",
    "        cosine_mapped_df = cross_join_df\\\n",
    "                    .rdd.map(lambda x: (float(cosine(x.feature,x.candidate_feature)), x.rating, x.candidate_id))\\\n",
    "                    .toDF([\"cosine_score\", \"rating\", \"candidate_id\"])\n",
    "    \n",
    "        windowDept = Window.partitionBy(\"candidate_id\").orderBy(col(\"cosine_score\").desc(), col(\"rating\").desc())\n",
    "    \n",
    "        top_k_nearest_items_df = cosine_mapped_df\\\n",
    "                                .withColumn(\"row\",row_number().over(windowDept)).filter(col(\"row\") <= k)\n",
    "    \n",
    "        predicted_rating_df = top_k_nearest_items_df.rdd.map(lambda x: (x.candidate_id, x.cosine_score*x.rating))\\\n",
    "                                                    .reduceByKey(add)\\\n",
    "                                                    .map(lambda x: (x[0], x[1]/k))\\\n",
    "                                                    .toDF([\"candidate_id\", \"predicted_rating\"])\\\n",
    "                                                    .orderBy(col(\"predicted_rating\").desc())\n",
    "    \n",
    "        return predicted_rating_df\n",
    "    \n",
    "    \n",
    "    def RMSE(self):\n",
    "        k = self.k\n",
    "        w = self.watched_df.orderBy(f.rand())\n",
    "        test_size = int(w.count()/4)\n",
    "        test_df = w.limit(test_size)\n",
    "        train_df = w.subtract(test_df)\n",
    "        \n",
    "        test_df = test_df.withColumnRenamed(\"feature\", \"candidate_feature\")\\\n",
    "                                    .withColumn(\"candidate_id\", monotonically_increasing_id())\n",
    "        \n",
    "        actual_rating_df = test_df.select(col(\"candidate_id\"), col(\"rating\").alias(\"actual_rating\"))\n",
    "        \n",
    "        cross_join_df = train_df.crossJoin(test_df)\n",
    "    \n",
    "        cosine_mapped_df = cross_join_df\\\n",
    "                    .rdd.map(lambda x: (float(cosine(x.feature,x.candidate_feature)), x.rating, x.candidate_id))\\\n",
    "                    .toDF([\"cosine_score\", \"rating\", \"candidate_id\"])\n",
    "    \n",
    "        windowDept = Window.partitionBy(\"candidate_id\").orderBy(col(\"cosine_score\").desc(), col(\"rating\").desc())\n",
    "    \n",
    "        top_k_nearest_items_df = cosine_mapped_df\\\n",
    "                                .withColumn(\"row\",row_number().over(windowDept)).filter(col(\"row\") <= k)\n",
    "    \n",
    "        predicted_rating_df = top_k_nearest_items_df.rdd.map(lambda x: (x.candidate_id, x.cosine_score*x.rating))\\\n",
    "                                                    .reduceByKey(add)\\\n",
    "                                                    .map(lambda x: (x[0], x[1]/k))\\\n",
    "                                                    .toDF([\"candidate_id\", \"predicted_rating\"])\n",
    "        \n",
    "        join_df = predicted_rating_df.join(actual_rating_df, [\"candidate_id\"])\n",
    "        \n",
    "        \n",
    "        result_rdd = join_df.rdd.map(lambda x: ((x.predicted_rating - x.actual_rating)**2))\n",
    "        \n",
    "        return (result_rdd.reduce(add)/result_rdd.count())**(1/2)\n",
    "        "
   ]
  },
  {
   "cell_type": "code",
   "execution_count": 17,
   "id": "3aeda7af",
   "metadata": {},
   "outputs": [],
   "source": [
    "a = KNN_recommender(1, vec, not_vec, 5)"
   ]
  },
  {
   "cell_type": "code",
   "execution_count": 18,
   "id": "a0c446f3",
   "metadata": {},
   "outputs": [
    {
     "data": {
      "text/plain": [
       "1.2053961814715568"
      ]
     },
     "execution_count": 18,
     "metadata": {},
     "output_type": "execute_result"
    }
   ],
   "source": [
    "a.RMSE()"
   ]
  },
  {
   "cell_type": "code",
   "execution_count": 19,
   "id": "8c380f31",
   "metadata": {},
   "outputs": [
    {
     "name": "stderr",
     "output_type": "stream",
     "text": [
      "[Stage 106:=================================================>       (7 + 1) / 8]\r"
     ]
    },
    {
     "name": "stdout",
     "output_type": "stream",
     "text": [
      "+------------+------------------+\n",
      "|candidate_id|  predicted_rating|\n",
      "+------------+------------------+\n",
      "|        5872| 5.000000000000001|\n",
      "|       78160|               5.0|\n",
      "|        2759|               5.0|\n",
      "|       81537|               5.0|\n",
      "|        2596|4.3999999999999995|\n",
      "|        2835| 4.330127018922194|\n",
      "|      103228| 4.330127018922194|\n",
      "|        3577| 4.176800626856454|\n",
      "|       72694| 4.121320343559643|\n",
      "|      161032|4.0824829046386295|\n",
      "|        4580|4.0494897427831775|\n",
      "|        1307|3.8531972647421804|\n",
      "|        1965|3.7760883751542678|\n",
      "|        6616| 3.646494472526361|\n",
      "|       79536| 3.535533905932737|\n",
      "|        4833|3.3491886513788316|\n",
      "|      180497|3.1565965239697253|\n",
      "|        7320|3.1112698372208087|\n",
      "|        5502| 3.053197264742181|\n",
      "|         128|               0.0|\n",
      "+------------+------------------+\n",
      "\n"
     ]
    },
    {
     "name": "stderr",
     "output_type": "stream",
     "text": [
      "\r",
      "                                                                                \r"
     ]
    }
   ],
   "source": [
    "a.get_ranked_list().show()"
   ]
  },
  {
   "cell_type": "code",
   "execution_count": null,
   "id": "941de6aa",
   "metadata": {},
   "outputs": [],
   "source": []
  }
 ],
 "metadata": {
  "kernelspec": {
   "display_name": "Python 3 (ipykernel)",
   "language": "python",
   "name": "python3"
  },
  "language_info": {
   "codemirror_mode": {
    "name": "ipython",
    "version": 3
   },
   "file_extension": ".py",
   "mimetype": "text/x-python",
   "name": "python",
   "nbconvert_exporter": "python",
   "pygments_lexer": "ipython3",
   "version": "3.8.10"
  }
 },
 "nbformat": 4,
 "nbformat_minor": 5
}
